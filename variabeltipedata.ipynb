{
 "cells": [
  {
   "cell_type": "markdown",
   "id": "103d10a0",
   "metadata": {},
   "source": [
    "<h1>variabel dan tipe data python<h1><hr>\n",
    "    <font color=\"blue\"beberapa aturan variabel di <b>python</b>:"
   ]
  },
  {
   "cell_type": "code",
   "execution_count": null,
   "id": "54d8cba6",
   "metadata": {},
   "outputs": [],
   "source": [
    "<ol>\n",
    "    <li>bersifat case sensitic=>A !=a</li>\n",
    "    <li>harus diawali dengan huruf atau karakter _(underscore)</li>\n",
    "    <li>tidak boleh menggunakan spasi</li>\n",
    "    <li>boleh menggunakan angka</li>\n",
    "</ol>\n",
    "    \n",
    "    "
   ]
  },
  {
   "cell_type": "code",
   "execution_count": null,
   "id": "1ded4b60",
   "metadata": {},
   "outputs": [],
   "source": [
    "data_int=100.9\n",
    "data_string='1'\n",
    "data_bool=True\n",
    "\n",
    "print(data_int)\n",
    "print(data_float)\n",
    "print(data_string)\n",
    "print(data_bool)\n",
    "\n",
    "10\n",
    "100.9\n",
    "1\n",
    "True"
   ]
  },
  {
   "cell_type": "code",
   "execution_count": null,
   "id": "803ce59d",
   "metadata": {},
   "outputs": [],
   "source": [
    "untuk mengetahui tipe data dari sebuah variabel gunakan command type"
   ]
  },
  {
   "cell_type": "code",
   "execution_count": null,
   "id": "9b6a9287",
   "metadata": {},
   "outputs": [],
   "source": [
    "print(type(data_int))\n",
    "print(type(data_float))\n",
    "print(type(data_string))\n",
    "print(type(data_bool))\n"
   ]
  },
  {
   "cell_type": "code",
   "execution_count": null,
   "id": "6098bbf1",
   "metadata": {},
   "outputs": [],
   "source": [
    "pada python terdapat proses <b>CASTING</b> yaitu konversi dari sebuah tipe data\n",
    "ke tipe data yang lain yaitu sintaks tipe_data(nama_variabel)\n"
   ]
  },
  {
   "cell_type": "code",
   "execution_count": null,
   "id": "6fd00868",
   "metadata": {},
   "outputs": [],
   "source": [
    "int_to_float=float(data_int)\n",
    "int_to_string=str(data_int)\n",
    "int_bool = bool(data_int)\n",
    "\n",
    "print(\"nilai variabel data_int\",data_int)\n",
    "print(int_to_float)\n",
    "print(int_to_string)\n",
    "print(int_to_bool)\n",
    "\n",
    "nilai variabel data_int= 10\n",
    "10.0\n",
    "10\n",
    "True\n"
   ]
  },
  {
   "cell_type": "code",
   "execution_count": 4,
   "id": "9c7be512",
   "metadata": {
    "scrolled": false
   },
   "outputs": [
    {
     "ename": "NameError",
     "evalue": "name 'data_string' is not defined",
     "output_type": "error",
     "traceback": [
      "\u001b[1;31m---------------------------------------------------------------------------\u001b[0m",
      "\u001b[1;31mNameError\u001b[0m                                 Traceback (most recent call last)",
      "Input \u001b[1;32mIn [4]\u001b[0m, in \u001b[0;36m<cell line: 1>\u001b[1;34m()\u001b[0m\n\u001b[1;32m----> 1\u001b[0m str_to_int \u001b[38;5;241m=\u001b[39m \u001b[38;5;28mint\u001b[39m(\u001b[43mdata_string\u001b[49m)\n\u001b[0;32m      2\u001b[0m str_to_float \u001b[38;5;241m=\u001b[39m\u001b[38;5;28mfloat\u001b[39m(data_string)\n\u001b[0;32m      3\u001b[0m str_to_bool \u001b[38;5;241m=\u001b[39m\u001b[38;5;28mbool\u001b[39m(data_string)\n",
      "\u001b[1;31mNameError\u001b[0m: name 'data_string' is not defined"
     ]
    }
   ],
   "source": [
    "str_to_int = int(data_string)\n",
    "str_to_float =float(data_string)\n",
    "str_to_bool =bool(data_string)\n",
    "\n",
    "print(\"Nilai variabel data_string=\",data_string)\n",
    "print(str_to_int)\n",
    "print(str_to_float)\n",
    "print(str_to_bool)"
   ]
  },
  {
   "cell_type": "code",
   "execution_count": null,
   "id": "7adb9c52",
   "metadata": {},
   "outputs": [],
   "source": [
    "float_to_int=int(data_float)\n",
    "float_to_str=str(data_float)\n",
    "float_to_bool=bool(data_float)\n",
    "\n",
    "print(\"Nilai variabel data_float=\",data_float)\n",
    "print(float_to_int)\n",
    "print(float_to_str)\n",
    "print(float_to_bool)\n",
    "\n",
    "nilai variabel data_float=100.9\n",
    "100\n",
    "100.9\n",
    "True"
   ]
  },
  {
   "cell_type": "code",
   "execution_count": 6,
   "id": "910535f9",
   "metadata": {},
   "outputs": [
    {
     "name": "stdout",
     "output_type": "stream",
     "text": [
      "isikan bilangan 12\n",
      "isikan bilangan 210\n"
     ]
    },
    {
     "ename": "NameError",
     "evalue": "name 'hasil_tambahan' is not defined",
     "output_type": "error",
     "traceback": [
      "\u001b[1;31m---------------------------------------------------------------------------\u001b[0m",
      "\u001b[1;31mNameError\u001b[0m                                 Traceback (most recent call last)",
      "Input \u001b[1;32mIn [6]\u001b[0m, in \u001b[0;36m<cell line: 4>\u001b[1;34m()\u001b[0m\n\u001b[0;32m      1\u001b[0m bil1 \u001b[38;5;241m=\u001b[39m\u001b[38;5;28minput\u001b[39m(\u001b[38;5;124m\"\u001b[39m\u001b[38;5;124misikan bilangan 1\u001b[39m\u001b[38;5;124m\"\u001b[39m)\n\u001b[0;32m      2\u001b[0m bil2 \u001b[38;5;241m=\u001b[39m\u001b[38;5;28minput\u001b[39m(\u001b[38;5;124m\"\u001b[39m\u001b[38;5;124misikan bilangan 2\u001b[39m\u001b[38;5;124m\"\u001b[39m)\n\u001b[1;32m----> 4\u001b[0m \u001b[38;5;28mprint\u001b[39m(\u001b[38;5;124m\"\u001b[39m\u001b[38;5;124mhasil penjumlahan\u001b[39m\u001b[38;5;124m\"\u001b[39m,\u001b[43mhasil_tambahan\u001b[49m)\n\u001b[0;32m      5\u001b[0m \u001b[38;5;28mprint\u001b[39m(\u001b[38;5;124m\"\u001b[39m\u001b[38;5;124mhasil pembagian\u001b[39m\u001b[38;5;124m\"\u001b[39m,hasil_bagi)\n",
      "\u001b[1;31mNameError\u001b[0m: name 'hasil_tambahan' is not defined"
     ]
    }
   ],
   "source": [
    "bil1 =input(\"isikan bilangan 1\")\n",
    "bil2 =input(\"isikan bilangan 2\")\n",
    "hasil_tambah =bil1 + bil2\n",
    "hasil_bagi=bil1+bil2\n",
    "print(\"hasil penjumlahan\",hasil_tambahan)\n",
    "print(\"hasil pembagian\",hasil_bagi)\n",
    "\n"
   ]
  },
  {
   "cell_type": "code",
   "execution_count": null,
   "id": "43639614",
   "metadata": {},
   "outputs": [],
   "source": []
  }
 ],
 "metadata": {
  "kernelspec": {
   "display_name": "Python 3 (ipykernel)",
   "language": "python",
   "name": "python3"
  },
  "language_info": {
   "codemirror_mode": {
    "name": "ipython",
    "version": 3
   },
   "file_extension": ".py",
   "mimetype": "text/x-python",
   "name": "python",
   "nbconvert_exporter": "python",
   "pygments_lexer": "ipython3",
   "version": "3.9.12"
  }
 },
 "nbformat": 4,
 "nbformat_minor": 5
}
